{
 "cells": [
  {
   "cell_type": "code",
   "execution_count": 2,
   "id": "211371df-d5c6-4ff0-8790-3d80a8fd7ab3",
   "metadata": {},
   "outputs": [
    {
     "name": "stdout",
     "output_type": "stream",
     "text": [
      "Hello, Retail Sales Analysis!\n"
     ]
    }
   ],
   "source": [
    "print(\"Hello, Retail Sales Analysis!\")"
   ]
  },
  {
   "cell_type": "code",
   "execution_count": null,
   "id": "e82ea6a3-bdce-4e43-8e95-36b4894e5d80",
   "metadata": {},
   "outputs": [],
   "source": []
  },
  {
   "cell_type": "markdown",
   "id": "de04d0b6",
   "metadata": {},
   "source": []
  }
 ],
 "metadata": {
  "kernelspec": {
   "display_name": "Python 3 (ipykernel)",
   "language": "python",
   "name": "python3"
  },
  "language_info": {
   "codemirror_mode": {
    "name": "ipython",
    "version": 3
   },
   "file_extension": ".py",
   "mimetype": "text/x-python",
   "name": "python",
   "nbconvert_exporter": "python",
   "pygments_lexer": "ipython3",
   "version": "3.12.6"
  }
 },
 "nbformat": 4,
 "nbformat_minor": 5
}
