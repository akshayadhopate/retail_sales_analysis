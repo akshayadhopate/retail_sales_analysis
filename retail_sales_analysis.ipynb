{
 "cells": [
  {
   "cell_type": "code",
   "execution_count": 2,
   "id": "211371df-d5c6-4ff0-8790-3d80a8fd7ab3",
   "metadata": {},
   "outputs": [
    {
     "name": "stdout",
     "output_type": "stream",
     "text": [
      "Hello, Retail Sales Analysis!\n"
     ]
    }
   ],
   "source": [
    "print(\"Hello, Retail Sales Analysis!\")"
   ]
  },
  {
   "cell_type": "code",
   "execution_count": null,
   "id": "4393ed21-e168-4093-bb6c-210eced38eaf",
   "metadata": {},
   "outputs": [],
   "source": []
  }
 ],
 "metadata": {
  "kernelspec": {
   "display_name": "Python 3 (ipykernel)",
   "language": "python",
   "name": "python3"
  },
  "language_info": {
   "codemirror_mode": {
    "name": "ipython",
    "version": 3
   },
   "file_extension": ".py",
   "mimetype": "text/x-python",
   "name": "python",
   "nbconvert_exporter": "python",
   "pygments_lexer": "ipython3",
   "version": "3.12.6"
  }
 },
 "nbformat": 4,
 "nbformat_minor": 5
}
